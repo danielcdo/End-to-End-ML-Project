{
 "cells": [
  {
   "cell_type": "markdown",
   "metadata": {},
   "source": [
    "# Statistical Learning Model\n",
    "\n",
    "**Goals:**\n",
    " - Quickly check the data using samples of maching learning models\n",
    " - Grasp some insights on the data\n",
    " - Data clearning\n",
    "\n",
    "Use the the target labels to fit the first model - base model."
   ]
  },
  {
   "cell_type": "markdown",
   "metadata": {},
   "source": [
    "Import libraries"
   ]
  },
  {
   "cell_type": "code",
   "execution_count": 87,
   "metadata": {},
   "outputs": [
    {
     "name": "stdout",
     "output_type": "stream",
     "text": [
      "Populating the interactive namespace from numpy and matplotlib\n"
     ]
    }
   ],
   "source": [
    "import numpy as np\n",
    "import pandas as pd\n",
    "\n",
    "from matplotlib import pyplot as plt\n",
    "\n",
    "import time\n",
    "\n",
    "from sklearn.linear_model import LogisticRegression\n",
    "from sklearn.tree import DecisionTreeClassifier\n",
    "from sklearn.model_selection import train_test_split\n",
    "from sklearn.metrics import roc_auc_score, average_precision_score\n",
    "from sklearn.tree import plot_tree\n",
    "\n",
    "\n",
    "%matplotlib inline\n",
    "%pylab inline"
   ]
  },
  {
   "cell_type": "markdown",
   "metadata": {},
   "source": [
    "## Load raw data with labels"
   ]
  },
  {
   "cell_type": "code",
   "execution_count": 4,
   "metadata": {},
   "outputs": [
    {
     "name": "stdout",
     "output_type": "stream",
     "text": [
      "Num of labelled data:  (527, 4)\n"
     ]
    }
   ],
   "source": [
    "df = pd.read_csv('./raw_data/raw_data_with_labels.csv', index_col=0)\n",
    "\n",
    "# select only data with labels\n",
    "df = df[df['y'].notnull()]\n",
    "print('Num of labelled data: ', df.shape)"
   ]
  },
  {
   "cell_type": "code",
   "execution_count": 5,
   "metadata": {},
   "outputs": [
    {
     "data": {
      "text/html": [
       "<div>\n",
       "<style scoped>\n",
       "    .dataframe tbody tr th:only-of-type {\n",
       "        vertical-align: middle;\n",
       "    }\n",
       "\n",
       "    .dataframe tbody tr th {\n",
       "        vertical-align: top;\n",
       "    }\n",
       "\n",
       "    .dataframe thead th {\n",
       "        text-align: right;\n",
       "    }\n",
       "</style>\n",
       "<table border=\"1\" class=\"dataframe\">\n",
       "  <thead>\n",
       "    <tr style=\"text-align: right;\">\n",
       "      <th></th>\n",
       "      <th>title</th>\n",
       "      <th>y</th>\n",
       "      <th>upload_date</th>\n",
       "      <th>view_count</th>\n",
       "    </tr>\n",
       "  </thead>\n",
       "  <tbody>\n",
       "    <tr>\n",
       "      <th>1300</th>\n",
       "      <td>ML Bootcamp - Decision Tree, Random Forest &amp; E...</td>\n",
       "      <td>0.0</td>\n",
       "      <td>20200804</td>\n",
       "      <td>2164</td>\n",
       "    </tr>\n",
       "    <tr>\n",
       "      <th>1301</th>\n",
       "      <td>Kaggle 3 Free Certificates | Python | Machine ...</td>\n",
       "      <td>0.0</td>\n",
       "      <td>20200802</td>\n",
       "      <td>3227</td>\n",
       "    </tr>\n",
       "    <tr>\n",
       "      <th>1302</th>\n",
       "      <td>Kaggle 101: Learn &amp; Earn (Introduction)</td>\n",
       "      <td>0.0</td>\n",
       "      <td>20200731</td>\n",
       "      <td>193</td>\n",
       "    </tr>\n",
       "    <tr>\n",
       "      <th>1303</th>\n",
       "      <td>#3 - Learn Python with Kaggle - Booleans and C...</td>\n",
       "      <td>0.0</td>\n",
       "      <td>20200731</td>\n",
       "      <td>445</td>\n",
       "    </tr>\n",
       "    <tr>\n",
       "      <th>1304</th>\n",
       "      <td>Pytorch Tutorial 5-Live- Kaggle Advance House ...</td>\n",
       "      <td>1.0</td>\n",
       "      <td>20200730</td>\n",
       "      <td>9441</td>\n",
       "    </tr>\n",
       "  </tbody>\n",
       "</table>\n",
       "</div>"
      ],
      "text/plain": [
       "                                                  title    y  upload_date  \\\n",
       "1300  ML Bootcamp - Decision Tree, Random Forest & E...  0.0     20200804   \n",
       "1301  Kaggle 3 Free Certificates | Python | Machine ...  0.0     20200802   \n",
       "1302            Kaggle 101: Learn & Earn (Introduction)  0.0     20200731   \n",
       "1303  #3 - Learn Python with Kaggle - Booleans and C...  0.0     20200731   \n",
       "1304  Pytorch Tutorial 5-Live- Kaggle Advance House ...  1.0     20200730   \n",
       "\n",
       "      view_count  \n",
       "1300        2164  \n",
       "1301        3227  \n",
       "1302         193  \n",
       "1303         445  \n",
       "1304        9441  "
      ]
     },
     "execution_count": 5,
     "metadata": {},
     "output_type": "execute_result"
    }
   ],
   "source": [
    "df.head()\n",
    "df.tail()"
   ]
  },
  {
   "cell_type": "markdown",
   "metadata": {},
   "source": [
    "# 1. Data Cleanup\n",
    "\n",
    "Using a NEW dataframe with data that's ready and clean to fit the ML model."
   ]
  },
  {
   "cell_type": "code",
   "execution_count": 6,
   "metadata": {},
   "outputs": [],
   "source": [
    "# create a clean dataframe with the same indice on the original dataframe - raw data\n",
    "df_clean = pd.DataFrame(index=df.index)"
   ]
  },
  {
   "cell_type": "code",
   "execution_count": 7,
   "metadata": {},
   "outputs": [],
   "source": [
    "df_clean['date'] = pd.to_datetime(df['upload_date'], format='%Y%m%d')\n",
    "\n",
    "# note: format='%Y %m %d' shows the time; format='%Y%m%d' brings only YYYY-MM-DD - easy!"
   ]
  },
  {
   "cell_type": "code",
   "execution_count": 8,
   "metadata": {},
   "outputs": [
    {
     "data": {
      "text/plain": [
       "0      2021-05-05\n",
       "1      2021-05-05\n",
       "2      2021-05-05\n",
       "3      2021-05-05\n",
       "4      2021-05-05\n",
       "          ...    \n",
       "1300   2020-08-04\n",
       "1301   2020-08-02\n",
       "1302   2020-07-31\n",
       "1303   2020-07-31\n",
       "1304   2020-07-30\n",
       "Name: date, Length: 527, dtype: datetime64[ns]"
      ]
     },
     "execution_count": 8,
     "metadata": {},
     "output_type": "execute_result"
    }
   ],
   "source": [
    "df_clean['date']\n",
    "\n",
    "# dtype: datetime64[ns] used by numpy and pands"
   ]
  },
  {
   "cell_type": "code",
   "execution_count": 9,
   "metadata": {},
   "outputs": [],
   "source": [
    "# columns views: make sure all NAN will be convert to 0 and the assing an integer data type\n",
    "df_clean['views'] = df['view_count'].fillna(0).astype(int)"
   ]
  },
  {
   "cell_type": "code",
   "execution_count": 10,
   "metadata": {},
   "outputs": [
    {
     "data": {
      "text/plain": [
       "date     datetime64[ns]\n",
       "views             int32\n",
       "dtype: object"
      ]
     },
     "execution_count": 10,
     "metadata": {},
     "output_type": "execute_result"
    }
   ],
   "source": [
    "df_clean.dtypes"
   ]
  },
  {
   "cell_type": "markdown",
   "metadata": {},
   "source": [
    "## 2.Features\n",
    "\n",
    "Create an unique features dataframe.\n",
    "\n",
    "**Reason**: Align the feaatures dataframe with the most cleaning data - raw data collected & cleaned. The cleaning process can skip rows or columns.\n"
   ]
  },
  {
   "cell_type": "code",
   "execution_count": 95,
   "metadata": {},
   "outputs": [],
   "source": [
    "# features: it's similar to df_clean, just an extra step\n",
    "features = pd.DataFrame(index=df_clean.index)\n",
    "\n",
    "# labels/targets\n",
    "y = df['y'].copy()"
   ]
  },
  {
   "cell_type": "code",
   "execution_count": 96,
   "metadata": {},
   "outputs": [
    {
     "name": "stdout",
     "output_type": "stream",
     "text": [
      "Features shape: (527, 0)\n",
      "Labels shape: (527,)\n"
     ]
    }
   ],
   "source": [
    "print('Features shape: {}'.format(shape(features)))\n",
    "print('Labels shape: {}'.format(shape(y)))"
   ]
  },
  {
   "cell_type": "markdown",
   "metadata": {},
   "source": [
    "## Important: sklearn can't use *date* as a feature.\n",
    "\n",
    "Let's manipulate and create a feature using the raw date - **Num_views_per_day**.\n",
    "\n",
    "Sklearn needs a number."
   ]
  },
  {
   "cell_type": "code",
   "execution_count": 97,
   "metadata": {},
   "outputs": [],
   "source": [
    "# time_since_pub: time since the video was published. Random data choose. Use the date I created this code: fix date point\n",
    "\n",
    "# np.timedelta64(1, 'D'): time delta in numpy. Difference in days\n",
    "# we have data on a granually day meaning a difference less than a ay makes sense.\n",
    "features['time_since_pub'] = (pd.to_datetime(\"2021-05-09\") - df_clean['date']) / np.timedelta64(1, 'D')\n",
    "\n",
    "# used features\n",
    "features['views'] = df_clean['views']\n",
    "features['views_per_day'] = features['views'] / features['time_since_pub']\n",
    "\n",
    "features = features.drop(['time_since_pub'], axis=1)   # time_since_pub only used for the calculation\n",
    "\n",
    "# time_since_pub as a feature may impact the model once the numbers seem to increase a lot and the end of the time serie.\n",
    "# The training&validations datasets may not have a normal distributed values, thus an umbalaced feature weights.\n",
    "# and random samples are important to train and fit a ml model\n"
   ]
  },
  {
   "cell_type": "code",
   "execution_count": 98,
   "metadata": {},
   "outputs": [
    {
     "data": {
      "text/html": [
       "<div>\n",
       "<style scoped>\n",
       "    .dataframe tbody tr th:only-of-type {\n",
       "        vertical-align: middle;\n",
       "    }\n",
       "\n",
       "    .dataframe tbody tr th {\n",
       "        vertical-align: top;\n",
       "    }\n",
       "\n",
       "    .dataframe thead th {\n",
       "        text-align: right;\n",
       "    }\n",
       "</style>\n",
       "<table border=\"1\" class=\"dataframe\">\n",
       "  <thead>\n",
       "    <tr style=\"text-align: right;\">\n",
       "      <th></th>\n",
       "      <th>views</th>\n",
       "      <th>views_per_day</th>\n",
       "    </tr>\n",
       "  </thead>\n",
       "  <tbody>\n",
       "    <tr>\n",
       "      <th>1300</th>\n",
       "      <td>2164</td>\n",
       "      <td>7.784173</td>\n",
       "    </tr>\n",
       "    <tr>\n",
       "      <th>1301</th>\n",
       "      <td>3227</td>\n",
       "      <td>11.525000</td>\n",
       "    </tr>\n",
       "    <tr>\n",
       "      <th>1302</th>\n",
       "      <td>193</td>\n",
       "      <td>0.684397</td>\n",
       "    </tr>\n",
       "    <tr>\n",
       "      <th>1303</th>\n",
       "      <td>445</td>\n",
       "      <td>1.578014</td>\n",
       "    </tr>\n",
       "    <tr>\n",
       "      <th>1304</th>\n",
       "      <td>9441</td>\n",
       "      <td>33.360424</td>\n",
       "    </tr>\n",
       "  </tbody>\n",
       "</table>\n",
       "</div>"
      ],
      "text/plain": [
       "      views  views_per_day\n",
       "1300   2164       7.784173\n",
       "1301   3227      11.525000\n",
       "1302    193       0.684397\n",
       "1303    445       1.578014\n",
       "1304   9441      33.360424"
      ]
     },
     "execution_count": 98,
     "metadata": {},
     "output_type": "execute_result"
    }
   ],
   "source": [
    "features.head()\n",
    "features.tail()\n"
   ]
  },
  {
   "cell_type": "code",
   "execution_count": 99,
   "metadata": {},
   "outputs": [
    {
     "data": {
      "text/html": [
       "<div>\n",
       "<style scoped>\n",
       "    .dataframe tbody tr th:only-of-type {\n",
       "        vertical-align: middle;\n",
       "    }\n",
       "\n",
       "    .dataframe tbody tr th {\n",
       "        vertical-align: top;\n",
       "    }\n",
       "\n",
       "    .dataframe thead th {\n",
       "        text-align: right;\n",
       "    }\n",
       "</style>\n",
       "<table border=\"1\" class=\"dataframe\">\n",
       "  <thead>\n",
       "    <tr style=\"text-align: right;\">\n",
       "      <th></th>\n",
       "      <th>views</th>\n",
       "      <th>views_per_day</th>\n",
       "    </tr>\n",
       "  </thead>\n",
       "  <tbody>\n",
       "    <tr>\n",
       "      <th>count</th>\n",
       "      <td>5.270000e+02</td>\n",
       "      <td>527.000000</td>\n",
       "    </tr>\n",
       "    <tr>\n",
       "      <th>mean</th>\n",
       "      <td>1.598783e+04</td>\n",
       "      <td>308.274453</td>\n",
       "    </tr>\n",
       "    <tr>\n",
       "      <th>std</th>\n",
       "      <td>8.183696e+04</td>\n",
       "      <td>1154.782875</td>\n",
       "    </tr>\n",
       "    <tr>\n",
       "      <th>min</th>\n",
       "      <td>0.000000e+00</td>\n",
       "      <td>0.000000</td>\n",
       "    </tr>\n",
       "    <tr>\n",
       "      <th>25%</th>\n",
       "      <td>1.750000e+02</td>\n",
       "      <td>3.082796</td>\n",
       "    </tr>\n",
       "    <tr>\n",
       "      <th>50%</th>\n",
       "      <td>1.151000e+03</td>\n",
       "      <td>24.500000</td>\n",
       "    </tr>\n",
       "    <tr>\n",
       "      <th>75%</th>\n",
       "      <td>6.595500e+03</td>\n",
       "      <td>170.016129</td>\n",
       "    </tr>\n",
       "    <tr>\n",
       "      <th>max</th>\n",
       "      <td>1.472872e+06</td>\n",
       "      <td>17745.445783</td>\n",
       "    </tr>\n",
       "  </tbody>\n",
       "</table>\n",
       "</div>"
      ],
      "text/plain": [
       "              views  views_per_day\n",
       "count  5.270000e+02     527.000000\n",
       "mean   1.598783e+04     308.274453\n",
       "std    8.183696e+04    1154.782875\n",
       "min    0.000000e+00       0.000000\n",
       "25%    1.750000e+02       3.082796\n",
       "50%    1.151000e+03      24.500000\n",
       "75%    6.595500e+03     170.016129\n",
       "max    1.472872e+06   17745.445783"
      ]
     },
     "execution_count": 99,
     "metadata": {},
     "output_type": "execute_result"
    }
   ],
   "source": [
    "### not working\n",
    "#df_clean['date'].value_counts().plot(figsize=(20.10))\n",
    "\n",
    "features.describe()"
   ]
  },
  {
   "cell_type": "markdown",
   "metadata": {},
   "source": [
    "## 3. Fitting a baseline model\n",
    "\n",
    "Let's try to split the train&validation datasets 50/50.\n",
    "\n",
    "How the 2 features view and views_per_day impacted the ML model? \n",
    "\n",
    "Does a simple model with only 2 features impact the way the YouTube videos will be selected?"
   ]
  },
  {
   "cell_type": "code",
   "execution_count": 100,
   "metadata": {},
   "outputs": [
    {
     "data": {
      "text/plain": [
       "Timestamp('2021-03-12 00:00:00')"
      ]
     },
     "execution_count": 100,
     "metadata": {},
     "output_type": "execute_result"
    }
   ],
   "source": [
    "# check all data on df_clean\n",
    "# pd.set_option('display.max_rows', 527)\n",
    "# df_clean\n",
    "\n",
    "median_date = df_clean['date'].quantile(0.5, interpolation=\"midpoint\")\n",
    "median_date"
   ]
  },
  {
   "cell_type": "code",
   "execution_count": 101,
   "metadata": {},
   "outputs": [
    {
     "data": {
      "text/plain": [
       "((263, 2), (264, 2), (263,), (264,))"
      ]
     },
     "execution_count": 101,
     "metadata": {},
     "output_type": "execute_result"
    }
   ],
   "source": [
    "# splitting features dataset - trying a 50/50 using the median date\n",
    "# balanced dataset is important\n",
    "Xtrain, Xval = features[df_clean['date'] < '2021-03-12 '], features[df_clean['date'] >= '2021-03-12 ']\n",
    "ytrain, yval = y[df_clean['date'] < '2021-03-12 '], y[df_clean['date'] >= '2021-03-12 ']\n",
    "\n",
    "Xtrain.shape, Xval.shape, ytrain.shape, yval.shape"
   ]
  },
  {
   "cell_type": "markdown",
   "metadata": {},
   "source": [
    "## Decision Tree Model\n",
    "\n",
    "**Parameters**:\n",
    " - 2 depth only - keep simple\n",
    " - class_weight='balanced' ==> positive (1) samples, and zero are unbalanced and may impacte the ML model"
   ]
  },
  {
   "cell_type": "code",
   "execution_count": 104,
   "metadata": {},
   "outputs": [
    {
     "name": "stdout",
     "output_type": "stream",
     "text": [
      "Positive samples - videos select: 104.0\n",
      " % of ositive samples - videos select: 39.543726235741445\n"
     ]
    }
   ],
   "source": [
    "# check number of 1 samples under train dataset\n",
    "print('Positive samples - videos select: {}'.format(ytrain.mean() * 263))\n",
    "print(' % of ositive samples - videos select: {}'.format(ytrain.mean() * 100))\n",
    "\n",
    "# definitely unbalaced"
   ]
  },
  {
   "cell_type": "code",
   "execution_count": 105,
   "metadata": {},
   "outputs": [],
   "source": [
    "clf_dt = DecisionTreeClassifier(random_state=0, max_depth=2, class_weight='balanced')    # defined object"
   ]
  },
  {
   "cell_type": "markdown",
   "metadata": {},
   "source": [
    "## Fitting the model against the train dataset"
   ]
  },
  {
   "cell_type": "code",
   "execution_count": 106,
   "metadata": {},
   "outputs": [
    {
     "name": "stderr",
     "output_type": "stream",
     "text": [
      "C:\\Users\\danie\\Anaconda3\\lib\\site-packages\\sklearn\\tree\\tree.py:163: DeprecationWarning: `np.int` is a deprecated alias for the builtin `int`. To silence this warning, use `int` by itself. Doing this will not modify any behavior and is safe. When replacing `np.int`, you may wish to use e.g. `np.int64` or `np.int32` to specify the precision. If you wish to review your current use, check the release note link for additional information.\n",
      "Deprecated in NumPy 1.20; for more details and guidance: https://numpy.org/devdocs/release/1.20.0-notes.html#deprecations\n",
      "  y_encoded = np.zeros(y.shape, dtype=np.int)\n"
     ]
    },
    {
     "data": {
      "text/plain": [
       "DecisionTreeClassifier(class_weight='balanced', criterion='gini', max_depth=2,\n",
       "                       max_features=None, max_leaf_nodes=None,\n",
       "                       min_impurity_decrease=0.0, min_impurity_split=None,\n",
       "                       min_samples_leaf=1, min_samples_split=2,\n",
       "                       min_weight_fraction_leaf=0.0, presort=False,\n",
       "                       random_state=0, splitter='best')"
      ]
     },
     "execution_count": 106,
     "metadata": {},
     "output_type": "execute_result"
    }
   ],
   "source": [
    "clf_dt.fit(Xtrain, ytrain)"
   ]
  },
  {
   "cell_type": "code",
   "execution_count": 114,
   "metadata": {},
   "outputs": [
    {
     "name": "stdout",
     "output_type": "stream",
     "text": [
      "ML model already trainded/fitted and ready to be used!\n"
     ]
    }
   ],
   "source": [
    "print('ML model already trainded/fitted and ready to be used!')"
   ]
  },
  {
   "cell_type": "markdown",
   "metadata": {},
   "source": [
    "## Predicting if a video has been select\n",
    "\n",
    "Probability = 1\n",
    "\n",
    "predict_proba: returns a numpy array with prob of zero and prob of 1"
   ]
  },
  {
   "cell_type": "code",
   "execution_count": 107,
   "metadata": {},
   "outputs": [],
   "source": [
    "pred = clf_dt.predict_proba(Xval)[:, 1]   # only 1"
   ]
  },
  {
   "cell_type": "markdown",
   "metadata": {},
   "source": [
    "## Metrics - validating the model\n"
   ]
  },
  {
   "cell_type": "code",
   "execution_count": 108,
   "metadata": {},
   "outputs": [
    {
     "name": "stdout",
     "output_type": "stream",
     "text": [
      "Baseline model - decision tree with only simple parameters: 2 level deep\n"
     ]
    },
    {
     "data": {
      "text/plain": [
       "0.4247003740078532"
      ]
     },
     "execution_count": 108,
     "metadata": {},
     "output_type": "execute_result"
    }
   ],
   "source": [
    "# area of precision for decision tree\n",
    "\n",
    "print('Baseline model - decision tree with only simple parameters: 2 level deep')\n",
    "average_precision_score(yval, pred)"
   ]
  },
  {
   "cell_type": "markdown",
   "metadata": {},
   "source": [
    "## IMPORTANT: any future model in PRD should have a greater value"
   ]
  },
  {
   "cell_type": "code",
   "execution_count": 109,
   "metadata": {},
   "outputs": [
    {
     "data": {
      "text/plain": [
       "0.49467836257309944"
      ]
     },
     "execution_count": 109,
     "metadata": {},
     "output_type": "execute_result"
    }
   ],
   "source": [
    "# area under curve of roc curve metric\n",
    "roc_auc_score(yval, pred)"
   ]
  },
  {
   "cell_type": "markdown",
   "metadata": {},
   "source": [
    "## Decision Tree Plot \n"
   ]
  },
  {
   "cell_type": "code",
   "execution_count": 112,
   "metadata": {},
   "outputs": [
    {
     "data": {
      "text/plain": [
       "[Text(418.5, 679.5, 'views_per_day <= 20.987\\ngini = 0.5\\nsamples = 263\\nvalue = [131.5, 131.5]'),\n",
       " Text(209.25, 407.69999999999993, 'views_per_day <= 0.297\\ngini = 0.481\\nsamples = 154\\nvalue = [88.494, 59.428]'),\n",
       " Text(104.625, 135.89999999999998, 'gini = 0.0\\nsamples = 12\\nvalue = [9.925, 0.0]'),\n",
       " Text(313.875, 135.89999999999998, 'gini = 0.49\\nsamples = 142\\nvalue = [78.569, 59.428]'),\n",
       " Text(627.75, 407.69999999999993, 'views <= 2423.5\\ngini = 0.468\\nsamples = 109\\nvalue = [43.006, 72.072]'),\n",
       " Text(523.125, 135.89999999999998, 'gini = 0.0\\nsamples = 2\\nvalue = [1.654, 0.0]'),\n",
       " Text(732.375, 135.89999999999998, 'gini = 0.463\\nsamples = 107\\nvalue = [41.352, 72.072]')]"
      ]
     },
     "execution_count": 112,
     "metadata": {},
     "output_type": "execute_result"
    },
    {
     "data": {
      "image/png": "[encoded data removed]",
      "text/plain": [
       "<Figure size 1080x1080 with 1 Axes>"
      ]
     },
     "metadata": {
      "needs_background": "light"
     },
     "output_type": "display_data"
    }
   ],
   "source": [
    "fig, ax = pylab.subplots(1,1, figsize=(15,15))\n",
    "plot_tree(clf_dt, ax=ax, feature_names=Xtrain.columns)"
   ]
  },
  {
   "cell_type": "markdown",
   "metadata": {},
   "source": [
    "## Quick glance of the machine learning model\n",
    "## Overall details for the Decision Tree statistical model\n",
    "\n",
    "The parameter **class_weight='balanced'** worked punishing the positive samples that contain less samples. The root node shows the value with the same number meaning that the model tries to balance the samples.\n",
    "\n",
    "Videos with less than 20 views per day - root node - and with less the 1 view per day will not be recommended - y label gets zero.\n",
    "The model seems to make sense once not popular video should not be recommended.\n",
    "\n",
    "On the other hand, the left side on the tree shows videos with more views per day - likely popular videos - and with more than ~2400 views will be recommended.\n",
    "However, 'popular videos' with more than 20 views per day but with no more than ~2400 will not be recommented - get ZERO label.\n",
    "\n",
    "**Please note**: it's a first very simple model (2 levels deep and only 2 features) trying to get a baseline metric."
   ]
  },
  {
   "cell_type": "code",
   "execution_count": null,
   "metadata": {},
   "outputs": [],
   "source": []
  }
 ],
 "metadata": {
  "kernelspec": {
   "display_name": "Python 3",
   "language": "python",
   "name": "python3"
  },
  "language_info": {
   "codemirror_mode": {
    "name": "ipython",
    "version": 3
   },
   "file_extension": ".py",
   "mimetype": "text/x-python",
   "name": "python",
   "nbconvert_exporter": "python",
   "pygments_lexer": "ipython3",
   "version": "3.7.4"
  }
 },
 "nbformat": 4,
 "nbformat_minor": 4
}
