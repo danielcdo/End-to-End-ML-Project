{
 "cells": [
  {
   "cell_type": "markdown",
   "metadata": {},
   "source": [
    "# Statistical Learning Model \n",
    "\n",
    "**Goals:**\n",
    " - Apply active learning\n",
    " - Quickly check the data using samples of maching learning models\n",
    " - Grasp some insights on the data\n",
    " - Data clearning\n",
    " - Add more the title feature\n",
    " \n",
    " \n",
    "**More details on Active learning**: it may help if we have a short budget or not time to collect more data. \n",
    "\n",
    "The active learningf we select videos in which the likelihood is high and they may boost the model.\n",
    "\n",
    "\n",
    "Use the the target labels to fit the first model - base model."
   ]
  },
  {
   "cell_type": "markdown",
   "metadata": {},
   "source": [
    "Import libraries"
   ]
  },
  {
   "cell_type": "code",
   "execution_count": 1,
   "metadata": {},
   "outputs": [],
   "source": [
    "#!conda update scikit-learn"
   ]
  },
  {
   "cell_type": "code",
   "execution_count": 35,
   "metadata": {},
   "outputs": [
    {
     "name": "stdout",
     "output_type": "stream",
     "text": [
      "Populating the interactive namespace from numpy and matplotlib\n"
     ]
    }
   ],
   "source": [
    "import numpy as np\n",
    "import pandas as pd\n",
    "\n",
    "from matplotlib import pyplot as plt\n",
    "\n",
    "import time\n",
    "\n",
    "from sklearn.linear_model import LogisticRegression\n",
    "from sklearn.ensemble import RandomForestClassifier\n",
    "from sklearn.model_selection import train_test_split\n",
    "\n",
    "# from sklearn.feature_extraction import TfidfVectorizer ===> gets an error\n",
    "# pls use the import below\n",
    "from sklearn.feature_extraction.text import TfidfVectorizer \n",
    "\n",
    "from scipy.sparse import hstack, vstack                            # used on bow of workds, vetoctored the 'Title' column\n",
    "\n",
    "from sklearn.metrics import roc_auc_score, average_precision_score\n",
    "\n",
    "\n",
    "%matplotlib inline\n",
    "%pylab inline"
   ]
  },
  {
   "cell_type": "code",
   "execution_count": 2,
   "metadata": {},
   "outputs": [
    {
     "name": "stdout",
     "output_type": "stream",
     "text": [
      "The scikit-learn version is 0.21.3.\n"
     ]
    }
   ],
   "source": [
    "import sklearn\n",
    "print('The scikit-learn version is {}.'.format(sklearn.__version__))"
   ]
  },
  {
   "cell_type": "markdown",
   "metadata": {},
   "source": [
    "## Load raw data with labels"
   ]
  },
  {
   "cell_type": "code",
   "execution_count": 3,
   "metadata": {},
   "outputs": [
    {
     "name": "stdout",
     "output_type": "stream",
     "text": [
      "Num of labelled data:  (527, 4)\n"
     ]
    }
   ],
   "source": [
    "df = pd.read_csv('./raw_data/raw_data_with_labels.csv', index_col=0)\n",
    "\n",
    "# select only data with labels\n",
    "df = df[df['y'].notnull()]\n",
    "print('Num of labelled data: ', df.shape)"
   ]
  },
  {
   "cell_type": "code",
   "execution_count": 4,
   "metadata": {},
   "outputs": [
    {
     "data": {
      "text/html": [
       "<div>\n",
       "<style scoped>\n",
       "    .dataframe tbody tr th:only-of-type {\n",
       "        vertical-align: middle;\n",
       "    }\n",
       "\n",
       "    .dataframe tbody tr th {\n",
       "        vertical-align: top;\n",
       "    }\n",
       "\n",
       "    .dataframe thead th {\n",
       "        text-align: right;\n",
       "    }\n",
       "</style>\n",
       "<table border=\"1\" class=\"dataframe\">\n",
       "  <thead>\n",
       "    <tr style=\"text-align: right;\">\n",
       "      <th></th>\n",
       "      <th>title</th>\n",
       "      <th>y</th>\n",
       "      <th>upload_date</th>\n",
       "      <th>view_count</th>\n",
       "    </tr>\n",
       "  </thead>\n",
       "  <tbody>\n",
       "    <tr>\n",
       "      <th>1300</th>\n",
       "      <td>ML Bootcamp - Decision Tree, Random Forest &amp; E...</td>\n",
       "      <td>0.0</td>\n",
       "      <td>20200804</td>\n",
       "      <td>2164</td>\n",
       "    </tr>\n",
       "    <tr>\n",
       "      <th>1301</th>\n",
       "      <td>Kaggle 3 Free Certificates | Python | Machine ...</td>\n",
       "      <td>0.0</td>\n",
       "      <td>20200802</td>\n",
       "      <td>3227</td>\n",
       "    </tr>\n",
       "    <tr>\n",
       "      <th>1302</th>\n",
       "      <td>Kaggle 101: Learn &amp; Earn (Introduction)</td>\n",
       "      <td>0.0</td>\n",
       "      <td>20200731</td>\n",
       "      <td>193</td>\n",
       "    </tr>\n",
       "    <tr>\n",
       "      <th>1303</th>\n",
       "      <td>#3 - Learn Python with Kaggle - Booleans and C...</td>\n",
       "      <td>0.0</td>\n",
       "      <td>20200731</td>\n",
       "      <td>445</td>\n",
       "    </tr>\n",
       "    <tr>\n",
       "      <th>1304</th>\n",
       "      <td>Pytorch Tutorial 5-Live- Kaggle Advance House ...</td>\n",
       "      <td>1.0</td>\n",
       "      <td>20200730</td>\n",
       "      <td>9441</td>\n",
       "    </tr>\n",
       "  </tbody>\n",
       "</table>\n",
       "</div>"
      ],
      "text/plain": [
       "                                                  title    y  upload_date  \\\n",
       "1300  ML Bootcamp - Decision Tree, Random Forest & E...  0.0     20200804   \n",
       "1301  Kaggle 3 Free Certificates | Python | Machine ...  0.0     20200802   \n",
       "1302            Kaggle 101: Learn & Earn (Introduction)  0.0     20200731   \n",
       "1303  #3 - Learn Python with Kaggle - Booleans and C...  0.0     20200731   \n",
       "1304  Pytorch Tutorial 5-Live- Kaggle Advance House ...  1.0     20200730   \n",
       "\n",
       "      view_count  \n",
       "1300        2164  \n",
       "1301        3227  \n",
       "1302         193  \n",
       "1303         445  \n",
       "1304        9441  "
      ]
     },
     "execution_count": 4,
     "metadata": {},
     "output_type": "execute_result"
    }
   ],
   "source": [
    "df.head()\n",
    "df.tail()"
   ]
  },
  {
   "cell_type": "markdown",
   "metadata": {},
   "source": [
    "# 1. Data Cleanup\n",
    "\n",
    "Using a NEW dataframe with data that's ready and clean the data to fit the ML model."
   ]
  },
  {
   "cell_type": "code",
   "execution_count": 5,
   "metadata": {},
   "outputs": [],
   "source": [
    "# create a clean dataframe with the same indice on the original dataframe - raw data\n",
    "df_clean = pd.DataFrame(index=df.index)"
   ]
  },
  {
   "cell_type": "code",
   "execution_count": 6,
   "metadata": {},
   "outputs": [],
   "source": [
    "df_clean['date'] = pd.to_datetime(df['upload_date'], format='%Y%m%d')\n",
    "\n",
    "# note: format='%Y %m %d' shows the time; format='%Y%m%d' brings only YYYY-MM-DD - easy!"
   ]
  },
  {
   "cell_type": "code",
   "execution_count": 7,
   "metadata": {},
   "outputs": [
    {
     "data": {
      "text/plain": [
       "0      2021-05-05\n",
       "1      2021-05-05\n",
       "2      2021-05-05\n",
       "3      2021-05-05\n",
       "4      2021-05-05\n",
       "          ...    \n",
       "1300   2020-08-04\n",
       "1301   2020-08-02\n",
       "1302   2020-07-31\n",
       "1303   2020-07-31\n",
       "1304   2020-07-30\n",
       "Name: date, Length: 527, dtype: datetime64[ns]"
      ]
     },
     "execution_count": 7,
     "metadata": {},
     "output_type": "execute_result"
    }
   ],
   "source": [
    "df_clean['date']\n",
    "\n",
    "# dtype: datetime64[ns] used by numpy and pandas"
   ]
  },
  {
   "cell_type": "code",
   "execution_count": 8,
   "metadata": {},
   "outputs": [],
   "source": [
    "# columns views: make sure all NAN will be convert to 0 and an integer data type will be added\n",
    "df_clean['views'] = df['view_count'].fillna(0).astype(int)"
   ]
  },
  {
   "cell_type": "code",
   "execution_count": 9,
   "metadata": {},
   "outputs": [],
   "source": [
    "# adding title column. It will be used on the model....will be vectorized later\n",
    "\n",
    "df_clean['title'] = df['title']"
   ]
  },
  {
   "cell_type": "code",
   "execution_count": 10,
   "metadata": {},
   "outputs": [
    {
     "data": {
      "text/plain": [
       "date     datetime64[ns]\n",
       "views             int32\n",
       "title            object\n",
       "dtype: object"
      ]
     },
     "execution_count": 10,
     "metadata": {},
     "output_type": "execute_result"
    }
   ],
   "source": [
    "df_clean.dtypes"
   ]
  },
  {
   "cell_type": "markdown",
   "metadata": {},
   "source": [
    "## 2.Features & Labels\n",
    "\n",
    "Create an unique features dataframe. JUST an extra step. Making sure the features are ready.\n",
    "\n",
    "**Reason**: Align the feaatures dataframe with the most cleaning data - raw data collected & cleaned. The cleaning process can skip rows or columns.\n"
   ]
  },
  {
   "cell_type": "code",
   "execution_count": 11,
   "metadata": {},
   "outputs": [],
   "source": [
    "# features: it's similar to df_clean, just an extra step\n",
    "features = pd.DataFrame(index=df_clean.index)\n",
    "\n",
    "# labels/targets\n",
    "y = df['y'].copy()"
   ]
  },
  {
   "cell_type": "code",
   "execution_count": 12,
   "metadata": {},
   "outputs": [
    {
     "name": "stdout",
     "output_type": "stream",
     "text": [
      "Features shape: (527, 0)\n",
      "Labels shape: (527,)\n"
     ]
    }
   ],
   "source": [
    "print('Features shape: {}'.format(shape(features)))\n",
    "print('Labels shape: {}'.format(shape(y)))"
   ]
  },
  {
   "cell_type": "markdown",
   "metadata": {},
   "source": [
    "## Important: sklearn can't use *date* as a feature.\n",
    "\n",
    "Let's manipulate and create a feature using the raw date - **Num_views_per_day**.\n",
    "\n",
    "Sklearn needs a number."
   ]
  },
  {
   "cell_type": "code",
   "execution_count": 13,
   "metadata": {},
   "outputs": [],
   "source": [
    "# time_since_pub: time since the video was published. Random data choose. Use the date I created this code: fix date point - 2021-05-09\n",
    "\n",
    "# np.timedelta64(1, 'D'): time delta in numpy. Difference in days\n",
    "# we have data on a granually day, meaning a difference less than a day makes sense.\n",
    "features['time_since_pub'] = (pd.to_datetime(\"2021-05-09\") - df_clean['date']) / np.timedelta64(1, 'D')\n",
    "\n",
    "# used features\n",
    "features['views'] = df_clean['views']\n",
    "features['views_per_day'] = features['views'] / features['time_since_pub']\n",
    "\n",
    "features = features.drop(['time_since_pub'], axis=1)   # time_since_pub only used for the calculation\n",
    "\n",
    "# time_since_pub as a feature may impact the model once the numbers seem to increase a lot and the end of the time serie.\n",
    "# The training&validations datasets may not have a normal distributed values.Thus, an umbalaced feature weights\n",
    "# and random samples are important to train and fit a ml model\n"
   ]
  },
  {
   "cell_type": "code",
   "execution_count": 14,
   "metadata": {},
   "outputs": [
    {
     "data": {
      "text/html": [
       "<div>\n",
       "<style scoped>\n",
       "    .dataframe tbody tr th:only-of-type {\n",
       "        vertical-align: middle;\n",
       "    }\n",
       "\n",
       "    .dataframe tbody tr th {\n",
       "        vertical-align: top;\n",
       "    }\n",
       "\n",
       "    .dataframe thead th {\n",
       "        text-align: right;\n",
       "    }\n",
       "</style>\n",
       "<table border=\"1\" class=\"dataframe\">\n",
       "  <thead>\n",
       "    <tr style=\"text-align: right;\">\n",
       "      <th></th>\n",
       "      <th>views</th>\n",
       "      <th>views_per_day</th>\n",
       "    </tr>\n",
       "  </thead>\n",
       "  <tbody>\n",
       "    <tr>\n",
       "      <th>1300</th>\n",
       "      <td>2164</td>\n",
       "      <td>7.784173</td>\n",
       "    </tr>\n",
       "    <tr>\n",
       "      <th>1301</th>\n",
       "      <td>3227</td>\n",
       "      <td>11.525000</td>\n",
       "    </tr>\n",
       "    <tr>\n",
       "      <th>1302</th>\n",
       "      <td>193</td>\n",
       "      <td>0.684397</td>\n",
       "    </tr>\n",
       "    <tr>\n",
       "      <th>1303</th>\n",
       "      <td>445</td>\n",
       "      <td>1.578014</td>\n",
       "    </tr>\n",
       "    <tr>\n",
       "      <th>1304</th>\n",
       "      <td>9441</td>\n",
       "      <td>33.360424</td>\n",
       "    </tr>\n",
       "  </tbody>\n",
       "</table>\n",
       "</div>"
      ],
      "text/plain": [
       "      views  views_per_day\n",
       "1300   2164       7.784173\n",
       "1301   3227      11.525000\n",
       "1302    193       0.684397\n",
       "1303    445       1.578014\n",
       "1304   9441      33.360424"
      ]
     },
     "execution_count": 14,
     "metadata": {},
     "output_type": "execute_result"
    }
   ],
   "source": [
    "features.head()\n",
    "features.tail()"
   ]
  },
  {
   "cell_type": "code",
   "execution_count": 15,
   "metadata": {},
   "outputs": [
    {
     "data": {
      "text/html": [
       "<div>\n",
       "<style scoped>\n",
       "    .dataframe tbody tr th:only-of-type {\n",
       "        vertical-align: middle;\n",
       "    }\n",
       "\n",
       "    .dataframe tbody tr th {\n",
       "        vertical-align: top;\n",
       "    }\n",
       "\n",
       "    .dataframe thead th {\n",
       "        text-align: right;\n",
       "    }\n",
       "</style>\n",
       "<table border=\"1\" class=\"dataframe\">\n",
       "  <thead>\n",
       "    <tr style=\"text-align: right;\">\n",
       "      <th></th>\n",
       "      <th>views</th>\n",
       "      <th>views_per_day</th>\n",
       "    </tr>\n",
       "  </thead>\n",
       "  <tbody>\n",
       "    <tr>\n",
       "      <th>count</th>\n",
       "      <td>5.270000e+02</td>\n",
       "      <td>527.000000</td>\n",
       "    </tr>\n",
       "    <tr>\n",
       "      <th>mean</th>\n",
       "      <td>1.598783e+04</td>\n",
       "      <td>308.274453</td>\n",
       "    </tr>\n",
       "    <tr>\n",
       "      <th>std</th>\n",
       "      <td>8.183696e+04</td>\n",
       "      <td>1154.782875</td>\n",
       "    </tr>\n",
       "    <tr>\n",
       "      <th>min</th>\n",
       "      <td>0.000000e+00</td>\n",
       "      <td>0.000000</td>\n",
       "    </tr>\n",
       "    <tr>\n",
       "      <th>25%</th>\n",
       "      <td>1.750000e+02</td>\n",
       "      <td>3.082796</td>\n",
       "    </tr>\n",
       "    <tr>\n",
       "      <th>50%</th>\n",
       "      <td>1.151000e+03</td>\n",
       "      <td>24.500000</td>\n",
       "    </tr>\n",
       "    <tr>\n",
       "      <th>75%</th>\n",
       "      <td>6.595500e+03</td>\n",
       "      <td>170.016129</td>\n",
       "    </tr>\n",
       "    <tr>\n",
       "      <th>max</th>\n",
       "      <td>1.472872e+06</td>\n",
       "      <td>17745.445783</td>\n",
       "    </tr>\n",
       "  </tbody>\n",
       "</table>\n",
       "</div>"
      ],
      "text/plain": [
       "              views  views_per_day\n",
       "count  5.270000e+02     527.000000\n",
       "mean   1.598783e+04     308.274453\n",
       "std    8.183696e+04    1154.782875\n",
       "min    0.000000e+00       0.000000\n",
       "25%    1.750000e+02       3.082796\n",
       "50%    1.151000e+03      24.500000\n",
       "75%    6.595500e+03     170.016129\n",
       "max    1.472872e+06   17745.445783"
      ]
     },
     "execution_count": 15,
     "metadata": {},
     "output_type": "execute_result"
    }
   ],
   "source": [
    "### not working on my personal computer###\n",
    "# error: from_bounds() argument after * must be an iterable, not float\n",
    "\n",
    "# TODO: update packages\n",
    "#df_clean['date'].value_counts().plot(figsize=(20.10))\n",
    "\n",
    "features.describe()"
   ]
  },
  {
   "cell_type": "markdown",
   "metadata": {},
   "source": [
    "## 3. Fitting a baseline model\n",
    "\n",
    "Let's try to split the train&validation datasets 50/50.\n",
    "\n",
    "How the 2 features **view** and **views_per_day** impacted the ML model? \n",
    "Does a simple model with only 2 features impact the way the YouTube videos will be selected?"
   ]
  },
  {
   "cell_type": "code",
   "execution_count": 16,
   "metadata": {},
   "outputs": [
    {
     "data": {
      "text/plain": [
       "Timestamp('2021-03-12 00:00:00')"
      ]
     },
     "execution_count": 16,
     "metadata": {},
     "output_type": "execute_result"
    }
   ],
   "source": [
    "# check all data on df_clean\n",
    "# pd.set_option('display.max_rows', 527)\n",
    "# df_clean\n",
    "\n",
    "median_date = df_clean['date'].quantile(0.5, interpolation=\"midpoint\")\n",
    "median_date"
   ]
  },
  {
   "cell_type": "code",
   "execution_count": 17,
   "metadata": {},
   "outputs": [
    {
     "data": {
      "text/plain": [
       "((263, 2), (264, 2), (263,), (264,))"
      ]
     },
     "execution_count": 17,
     "metadata": {},
     "output_type": "execute_result"
    }
   ],
   "source": [
    "# splitting features dataset - trying a 50/50 using a median date\n",
    "# balanced dataset is important!!!\n",
    "# coed below can also be used\n",
    "# Xtrain, Xval = features[df_clean['date'] < '2021-03-12'], features[df_clean['date'] >= '2021-03-12']\n",
    "# ytrain, yval = y[df_clean['date'] < '2021-03-12 '], y[df_clean['date'] >= '2021-03-12 ']\n",
    "\n",
    "# needed approach - mask parameter to select the data\n",
    "mask_train = df_clean['date'] < '2021-03-12'\n",
    "mask_val = df_clean['date'] >= '2021-03-12'\n",
    "\n",
    "Xtrain, Xval = features[mask_train], features[mask_val]\n",
    "ytrain, yval = y[mask_train], y[mask_val]\n",
    "\n",
    "Xtrain.shape, Xval.shape, ytrain.shape, yval.shape"
   ]
  },
  {
   "cell_type": "markdown",
   "metadata": {},
   "source": [
    "## Add the title feature\n",
    "\n",
    "**Important**: transforming the Title string to numbers.\n",
    "\n",
    "Building a matrix in which each column will be the counting word from the Title feature.\n",
    "\n",
    "Import to notice that commom words like machine+learning will have a low weight.\n",
    "\n"
   ]
  },
  {
   "cell_type": "code",
   "execution_count": 20,
   "metadata": {},
   "outputs": [],
   "source": [
    "title_train = df_clean[mask_train]['title']\n",
    "title_val = df_clean[mask_val]['title']\n",
    "\n",
    "# Vectorizing the Title features\n",
    "title_vec = TfidfVectorizer(min_df=2)   # object defined; mind_df = 2 means the minimum numnber of words that be used to create a column\n",
    "\n",
    "# bow: bag of words\n",
    "title_bow_train = title_vec.fit_transform(title_train)     # fit + transform: store the words on the features, plus how many times the word appeared\n",
    "title_bow_val = title_vec.transform(title_val)             # validation set ONLY transform. Validation should NOT learning the words"
   ]
  },
  {
   "cell_type": "code",
   "execution_count": 27,
   "metadata": {},
   "outputs": [
    {
     "data": {
      "text/plain": [
       "<263x241 sparse matrix of type '<class 'numpy.float64'>'\n",
       "\twith 1659 stored elements in Compressed Sparse Row format>"
      ]
     },
     "execution_count": 27,
     "metadata": {},
     "output_type": "execute_result"
    }
   ],
   "source": [
    "# checking\n",
    "title_bow_train.shape\n",
    "title_bow_train"
   ]
  },
  {
   "cell_type": "markdown",
   "metadata": {},
   "source": [
    " TfidfVectorizer function returns a vectorized sparse matrix. It's an optimize matrix in Scipy where only values NOT equal to zero are returned."
   ]
  },
  {
   "cell_type": "code",
   "execution_count": 29,
   "metadata": {},
   "outputs": [
    {
     "data": {
      "text/plain": [
       "0.9738257892494833"
      ]
     },
     "execution_count": 29,
     "metadata": {},
     "output_type": "execute_result"
    }
   ],
   "source": [
    "# the sparse matrix 'title_bow_train' contains 1659 elements NOT ZERO\n",
    "1 - 1659/(263*241)   # % of ZERO elements on the sparse matrix, but only 3% are NOT ZERO elements. Meaning that the matrix is sparse computationally and mathematically speaking"
   ]
  },
  {
   "cell_type": "code",
   "execution_count": 30,
   "metadata": {},
   "outputs": [
    {
     "data": {
      "text/html": [
       "<div>\n",
       "<style scoped>\n",
       "    .dataframe tbody tr th:only-of-type {\n",
       "        vertical-align: middle;\n",
       "    }\n",
       "\n",
       "    .dataframe tbody tr th {\n",
       "        vertical-align: top;\n",
       "    }\n",
       "\n",
       "    .dataframe thead th {\n",
       "        text-align: right;\n",
       "    }\n",
       "</style>\n",
       "<table border=\"1\" class=\"dataframe\">\n",
       "  <thead>\n",
       "    <tr style=\"text-align: right;\">\n",
       "      <th></th>\n",
       "      <th>views</th>\n",
       "      <th>views_per_day</th>\n",
       "    </tr>\n",
       "  </thead>\n",
       "  <tbody>\n",
       "    <tr>\n",
       "      <th>133</th>\n",
       "      <td>243272</td>\n",
       "      <td>4123.254237</td>\n",
       "    </tr>\n",
       "    <tr>\n",
       "      <th>134</th>\n",
       "      <td>180</td>\n",
       "      <td>2.903226</td>\n",
       "    </tr>\n",
       "    <tr>\n",
       "      <th>135</th>\n",
       "      <td>196</td>\n",
       "      <td>3.062500</td>\n",
       "    </tr>\n",
       "    <tr>\n",
       "      <th>136</th>\n",
       "      <td>24828</td>\n",
       "      <td>381.969231</td>\n",
       "    </tr>\n",
       "    <tr>\n",
       "      <th>137</th>\n",
       "      <td>23338</td>\n",
       "      <td>353.606061</td>\n",
       "    </tr>\n",
       "  </tbody>\n",
       "</table>\n",
       "</div>"
      ],
      "text/plain": [
       "      views  views_per_day\n",
       "133  243272    4123.254237\n",
       "134     180       2.903226\n",
       "135     196       3.062500\n",
       "136   24828     381.969231\n",
       "137   23338     353.606061"
      ]
     },
     "execution_count": 30,
     "metadata": {},
     "output_type": "execute_result"
    }
   ],
   "source": [
    "Xtrain.head()\n",
    "\n",
    "# train dataset so far. But, now the 'Title' will be added to train&validation"
   ]
  },
  {
   "cell_type": "markdown",
   "metadata": {},
   "source": [
    "## IMPORTANT to note: \n",
    "Combining simple matrix - Xtrain&Xval - with a sparse matrix - title_bow_train&title_bow_val\n",
    "\n",
    "Use scipy.sparse hstack and vstack\n",
    "\n",
    "More details on hstack and vstack...stacking matrix (vectoes) horizontally and vertically\n",
    "\n",
    "Sample:\n",
    "\n",
    "hstack - [1 2]    [3 4]  -> [1 2 3 4]\n",
    "\n",
    "vstack [1 2]      [3 4]  -> [1 2]\n",
    "                            [3 4]\n",
    "                            \n",
    "USE *scipy.sparse hstack and vstack*, numpy sparse function may take TOO LONG, or not compute at all!!"
   ]
  },
  {
   "cell_type": "code",
   "execution_count": 40,
   "metadata": {},
   "outputs": [],
   "source": [
    "# combining sparse matrix with original features\n",
    "from scipy.sparse import hstack, vstack  \n",
    "\n",
    "Xtrain_wtitle = hstack([Xtrain, title_bow_train])\n",
    "Xval_wtitle = hstack([Xval, title_bow_val])"
   ]
  },
  {
   "cell_type": "code",
   "execution_count": 43,
   "metadata": {},
   "outputs": [
    {
     "data": {
      "text/plain": [
       "((263, 243), (264, 243))"
      ]
     },
     "execution_count": 43,
     "metadata": {},
     "output_type": "execute_result"
    }
   ],
   "source": [
    "Xtrain_wtitle.shape, Xval_wtitle.shape\n",
    "\n",
    "# 2 numerical features on training dataset plus 241 columns from 'Title'"
   ]
  },
  {
   "cell_type": "markdown",
   "metadata": {},
   "source": [
    "## Random Forest"
   ]
  },
  {
   "cell_type": "code",
   "execution_count": 53,
   "metadata": {},
   "outputs": [
    {
     "name": "stdout",
     "output_type": "stream",
     "text": [
      "Positive samples - videos select: 104.0\n",
      " % of positive samples - videos select: 39.543726235741445\n"
     ]
    }
   ],
   "source": [
    "# check number of 1 samples under train dataset\n",
    "print('Positive samples - videos select: {}'.format(ytrain.mean() * 263))\n",
    "print(' % of positive samples - videos select: {}'.format(ytrain.mean() * 100))\n",
    "\n",
    "# definitely unbalaced"
   ]
  },
  {
   "cell_type": "code",
   "execution_count": 52,
   "metadata": {},
   "outputs": [],
   "source": [
    "clf_rf = RandomForestClassifier(n_estimators=1000, random_state=0, class_weight='balanced', n_jobs=6)    # defined object"
   ]
  },
  {
   "cell_type": "markdown",
   "metadata": {},
   "source": [
    "## Fitting the model against the train dataset"
   ]
  },
  {
   "cell_type": "code",
   "execution_count": 54,
   "metadata": {},
   "outputs": [
    {
     "name": "stderr",
     "output_type": "stream",
     "text": [
      
      
     ]
    },
    {
     "data": {
      "text/plain": [
       "RandomForestClassifier(bootstrap=True, class_weight='balanced',\n",
       "                       criterion='gini', max_depth=None, max_features='auto',\n",
       "                       max_leaf_nodes=None, min_impurity_decrease=0.0,\n",
       "                       min_impurity_split=None, min_samples_leaf=1,\n",
       "                       min_samples_split=2, min_weight_fraction_leaf=0.0,\n",
       "                       n_estimators=1000, n_jobs=6, oob_score=False,\n",
       "                       random_state=0, verbose=0, warm_start=False)"
      ]
     },
     "execution_count": 54,
     "metadata": {},
     "output_type": "execute_result"
    }
   ],
   "source": [
    "clf_rf.fit(Xtrain_wtitle, ytrain)"
   ]
  },
  {
   "cell_type": "code",
   "execution_count": 55,
   "metadata": {},
   "outputs": [
    {
     "name": "stdout",
     "output_type": "stream",
     "text": [
      "ML model already trainded/fitted and ready to be used!\n"
     ]
    }
   ],
   "source": [
    "print('ML model already trainded/fitted and ready to be used!')"
   ]
  },
  {
   "cell_type": "markdown",
   "metadata": {},
   "source": [
    "## Predicting if a video has been select\n",
    "\n",
    "Probability = 1\n",
    "\n",
    "predict_proba: returns a numpy array with prob of zero and prob of 1"
   ]
  },
  {
   "cell_type": "code",
   "execution_count": 56,
   "metadata": {},
   "outputs": [
   
   ],
   "source": [
    "pred = clf_rf.predict_proba(Xval_wtitle)[:, 1]   # only 1"
   ]
  },
  {
   "cell_type": "markdown",
   "metadata": {},
   "source": [
    "## Metrics - validating the model\n"
   ]
  },
  {
   "cell_type": "code",
   "execution_count": 57,
   "metadata": {},
   "outputs": [
    {
     "name": "stdout",
     "output_type": "stream",
     "text": [
      "Random Forest\n"
     ]
    },
    {
     "data": {
      "text/plain": [
       "0.4566659359075169"
      ]
     },
     "execution_count": 57,
     "metadata": {},
     "output_type": "execute_result"
    }
   ],
   "source": [
    "# area of precision for decision tree\n",
    "\n",
    "print('Random Forest')\n",
    "average_precision_score(yval, pred)"
   ]
  },
  {
   "cell_type": "markdown",
   "metadata": {},
   "source": [
    "## IMPORTANT: any future model in PRD should have a greater than baseline model **0.49**"
   ]
  },
  {
   "cell_type": "code",
   "execution_count": 58,
   "metadata": {},
   "outputs": [
    {
     "data": {
      "text/plain": [
       "0.5182456140350877"
      ]
     },
     "execution_count": 58,
     "metadata": {},
     "output_type": "execute_result"
    }
   ],
   "source": [
    "# area under curve of roc curve metric\n",
    "roc_auc_score(yval, pred)"
   ]
  },
  {
   "cell_type": "markdown",
   "metadata": {},
   "source": [
    "## Random Forest gets a better result\n"
   ]
  },
  {
   "cell_type": "markdown",
   "metadata": {},
   "source": [
    "## Quick glance of the machine learning model\n",
    "\n",
    "The Random Forest statistical model seems to have better metrics (average precison & roc curve) than the baseline model.\n",
    "\n",
    "**Baseline Model**\n",
    "\n",
    "ap = 0.42\n",
    "\n",
    "auc = 0.49\n",
    "\n",
    "**Random Forest Model**\n",
    "\n",
    "ap = 0.45\n",
    "\n",
    "auc = 0.51"
   ]
  },
  {
   "cell_type": "code",
   "execution_count": null,
   "metadata": {},
   "outputs": [],
   "source": []
  }
 ],
 "metadata": {
  "kernelspec": {
   "display_name": "Python 3",
   "language": "python",
   "name": "python3"
  },
  "language_info": {
   "codemirror_mode": {
    "name": "ipython",
    "version": 3
   },
   "file_extension": ".py",
   "mimetype": "text/x-python",
   "name": "python",
   "nbconvert_exporter": "python",
   "pygments_lexer": "ipython3",
   "version": "3.7.4"
  }
 },
 "nbformat": 4,
 "nbformat_minor": 4
}
